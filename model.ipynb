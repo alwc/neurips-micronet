{
 "cells": [
  {
   "cell_type": "code",
   "execution_count": 1,
   "metadata": {
    "ExecuteTime": {
     "end_time": "2019-09-22T01:07:24.770193Z",
     "start_time": "2019-09-22T01:07:17.597037Z"
    }
   },
   "outputs": [],
   "source": [
    "from u import *\n",
    "from ut import *\n",
    "from model import *\n",
    "from data import *\n",
    "\n",
    "%load_ext autoreload\n",
    "%autoreload 2\n",
    "\n",
    "decoder = (Cache / 'vocab.npy').load()\n",
    "encoder = get_encoder(decoder)\n",
    "n_vocab = len(decoder)"
   ]
  },
  {
   "cell_type": "markdown",
   "metadata": {},
   "source": [
    "# Model Configurations\n",
    "\n",
    "Also prints out the command to run training"
   ]
  },
  {
   "cell_type": "code",
   "execution_count": 2,
   "metadata": {
    "ExecuteTime": {
     "end_time": "2019-09-22T01:07:24.830508Z",
     "start_time": "2019-09-22T01:07:24.775910Z"
    },
    "code_folding": []
   },
   "outputs": [],
   "source": [
    "# base hyperparameters for transformer\n",
    "transformer = dict(\n",
    "    model=Proj / 'model.py', model_class='Transformer', n_vocab=n_vocab, step_save=5000,\n",
    "    train_batch=17, train_chunk=1088,\n",
    "    step_eval=500, eval_batch=1, eval_chunk=4096,\n",
    "    cutoffs=[5000, 25000, 50000], adaptive_ratio=4, pos_emb='trained',\n",
    "    n_seq=64, n_layers=16, n_embed=256, n_head=8, n_k=32, n_v=32, n_inner=1024, dropout=0.1,\n",
    "    lr=0.0005, step_warmup=100, scheduler='cosine'\n",
    ")"
   ]
  },
  {
   "cell_type": "code",
   "execution_count": 3,
   "metadata": {
    "ExecuteTime": {
     "end_time": "2019-09-22T01:07:25.090309Z",
     "start_time": "2019-09-22T01:07:24.843453Z"
    }
   },
   "outputs": [
    {
     "name": "stdout",
     "output_type": "stream",
     "text": [
      "cd /data/scratch/zxyan/micronet/wikitext-103/hebbian,large\n",
      "CUDA_VISIBLE_DEVICES=0,1,2,3 python3 -m torch.distributed.launch --nproc_per_node=4 --use_env ../../model.py . steps=200000 opt_level=O1\n"
     ]
    }
   ],
   "source": [
    "# create config object from dictionary\n",
    "c = Config(Wiki / 'hebbian,large', # first argument to config is the path of the folder to create for the run\n",
    "    transformer,\n",
    "    hebbian=True, hebbian_gamma=0.002, hebbian_T=2500,\n",
    "    train_batch=8, train_chunk=1152,\n",
    "    n_embed=512, n_seq=128, mask_pad=True\n",
    ").save(True) # save to the folder\n",
    "\n",
    "# print out command to run the training\n",
    "print(c.train(env_gpu=lrange(4), steps=200000, opt='O1'))"
   ]
  },
  {
   "cell_type": "code",
   "execution_count": 4,
   "metadata": {
    "ExecuteTime": {
     "end_time": "2019-09-22T01:07:25.298138Z",
     "start_time": "2019-09-22T01:07:25.093764Z"
    }
   },
   "outputs": [
    {
     "name": "stdout",
     "output_type": "stream",
     "text": [
      "cd /data/scratch/zxyan/micronet/wikitext-103/hebbian,large2\n",
      "CUDA_VISIBLE_DEVICES=0,1,2,3,4,5 python3 -m torch.distributed.launch --nproc_per_node=6 --use_env ../../model.py . steps=200000 opt_level=O1\n"
     ]
    }
   ],
   "source": [
    "c = Config(Wiki / 'hebbian,large2', transformer,\n",
    "    hebbian=True, hebbian_gamma=0.002, hebbian_T=2500,\n",
    "    train_batch=7, train_chunk=1152,\n",
    "    n_embed=512, n_k=64, n_v=64, n_seq=96, n_inner=1536, mask_pad=True\n",
    ").save(True)\n",
    "print(c.train(env_gpu=lrange(6), steps=200000, opt='O1'))"
   ]
  },
  {
   "cell_type": "code",
   "execution_count": 5,
   "metadata": {
    "ExecuteTime": {
     "end_time": "2019-09-22T01:07:25.579069Z",
     "start_time": "2019-09-22T01:07:25.302710Z"
    }
   },
   "outputs": [
    {
     "name": "stdout",
     "output_type": "stream",
     "text": [
      "cd /data/scratch/zxyan/micronet/wikitext-103/hebbian\n",
      "CUDA_VISIBLE_DEVICES=2 python3 ../../model.py . steps=200000 opt_level=O1\n"
     ]
    }
   ],
   "source": [
    "c = Config(Wiki / 'hebbian', transformer,\n",
    "           hebbian=True, hebbian_gamma=0.01, hebbian_T=500).save(True)\n",
    "print(c.train(env_gpu=2, steps=200000, opt='O1'))"
   ]
  },
  {
   "cell_type": "markdown",
   "metadata": {},
   "source": [
    "# Cache Parameter Search"
   ]
  },
  {
   "cell_type": "code",
   "execution_count": 27,
   "metadata": {
    "ExecuteTime": {
     "end_time": "2019-09-22T01:17:38.288959Z",
     "start_time": "2019-09-22T01:17:37.652975Z"
    },
    "scrolled": false
   },
   "outputs": [
    {
     "name": "stdout",
     "output_type": "stream",
     "text": [
      "Model at step 195727\n"
     ]
    }
   ],
   "source": [
    "# loads the model (net and step) for evaluation\n",
    "net, step = c.var(device='cuda:1').load_model('max')\n",
    "from model import evaluate\n",
    "data_val = SequentialIterator(c, c.eval_batch, split='valid')\n",
    "perplexity = {}\n",
    "print('Model at step', step)"
   ]
  },
  {
   "cell_type": "code",
   "execution_count": 30,
   "metadata": {
    "ExecuteTime": {
     "end_time": "2019-09-22T01:25:12.842642Z",
     "start_time": "2019-09-22T01:20:50.591091Z"
    }
   },
   "outputs": [],
   "source": [
    "thetas = [1e-2, 1e-3, 1e-4]\n",
    "thetas = [1e-1, 5e-2, 2e-2, 1e-2]\n",
    "thetas = [1e-2, 5e-3, 2e-3, 1e-3]\n",
    "thetas = [1e-2, 9e-3, 8e-3, 7e-3, 6e-3, 5e-3, 4e-3, 3e-3, 2e-3, 1e-3]\n",
    "# thetas = [6e-3, 5.5e-3, 5e-3, 4.5e-3, 4e-3]\n",
    "lambdas = [0.05, 0.1, 0.2, 0.3, 0.4]\n",
    "lambdas = [0.01, 0.02, 0.03, 0.04, 0.05, 0.06, 0.07, 0.08, 0.09, 0.1]\n",
    "# lambdas = [0.05, 0.055, 0.06, 0.065, 0.07]\n",
    "\n",
    "# search over cache parameters\n",
    "for theta in thetas:\n",
    "    for lam in lambdas:\n",
    "        if (theta, lam) in perplexity:\n",
    "            continue\n",
    "        net.loss.cache_keys = net.loss.cache_values = None\n",
    "        perplexity[theta, lam] = evaluate(c.var(use_cache=True, n_cache=500, cache_theta=theta, cache_lambda=lam), data_val, net)['perplexity']"
   ]
  },
  {
   "cell_type": "code",
   "execution_count": 31,
   "metadata": {
    "ExecuteTime": {
     "end_time": "2019-09-22T01:25:12.912462Z",
     "start_time": "2019-09-22T01:25:12.845654Z"
    }
   },
   "outputs": [
    {
     "data": {
      "text/html": [
       "<div>\n",
       "<style scoped>\n",
       "    .dataframe tbody tr th:only-of-type {\n",
       "        vertical-align: middle;\n",
       "    }\n",
       "\n",
       "    .dataframe tbody tr th {\n",
       "        vertical-align: top;\n",
       "    }\n",
       "\n",
       "    .dataframe thead th {\n",
       "        text-align: right;\n",
       "    }\n",
       "</style>\n",
       "<table border=\"1\" class=\"dataframe\">\n",
       "  <thead>\n",
       "    <tr style=\"text-align: right;\">\n",
       "      <th></th>\n",
       "      <th>0.01</th>\n",
       "      <th>0.009</th>\n",
       "      <th>0.008</th>\n",
       "      <th>0.007</th>\n",
       "      <th>0.006</th>\n",
       "      <th>0.005</th>\n",
       "      <th>0.004</th>\n",
       "      <th>0.003</th>\n",
       "      <th>0.002</th>\n",
       "      <th>0.001</th>\n",
       "    </tr>\n",
       "  </thead>\n",
       "  <tbody>\n",
       "    <tr>\n",
       "      <th>0.01</th>\n",
       "      <td>36.787824</td>\n",
       "      <td>36.745686</td>\n",
       "      <td>36.712506</td>\n",
       "      <td>36.693736</td>\n",
       "      <td>36.697288</td>\n",
       "      <td>36.734211</td>\n",
       "      <td>36.820141</td>\n",
       "      <td>36.978187</td>\n",
       "      <td>37.237089</td>\n",
       "      <td>37.602890</td>\n",
       "    </tr>\n",
       "    <tr>\n",
       "      <th>0.02</th>\n",
       "      <td>36.283192</td>\n",
       "      <td>36.228803</td>\n",
       "      <td>36.186418</td>\n",
       "      <td>36.163114</td>\n",
       "      <td>36.168977</td>\n",
       "      <td>36.217775</td>\n",
       "      <td>36.329173</td>\n",
       "      <td>36.531000</td>\n",
       "      <td>36.857135</td>\n",
       "      <td>37.313109</td>\n",
       "    </tr>\n",
       "    <tr>\n",
       "      <th>0.03</th>\n",
       "      <td>36.004096</td>\n",
       "      <td>35.941256</td>\n",
       "      <td>35.892839</td>\n",
       "      <td>35.867210</td>\n",
       "      <td>35.876138</td>\n",
       "      <td>35.935763</td>\n",
       "      <td>36.068431</td>\n",
       "      <td>36.305578</td>\n",
       "      <td>36.683904</td>\n",
       "      <td>37.207555</td>\n",
       "    </tr>\n",
       "    <tr>\n",
       "      <th>0.04</th>\n",
       "      <td>35.832858</td>\n",
       "      <td>35.763247</td>\n",
       "      <td>35.710200</td>\n",
       "      <td>35.683136</td>\n",
       "      <td>35.695405</td>\n",
       "      <td>35.765106</td>\n",
       "      <td>35.917125</td>\n",
       "      <td>36.185494</td>\n",
       "      <td>36.609384</td>\n",
       "      <td>37.191023</td>\n",
       "    </tr>\n",
       "    <tr>\n",
       "      <th>0.05</th>\n",
       "      <td>35.727658</td>\n",
       "      <td>35.652199</td>\n",
       "      <td>35.595217</td>\n",
       "      <td>35.567214</td>\n",
       "      <td>35.582981</td>\n",
       "      <td>35.662290</td>\n",
       "      <td>35.832414</td>\n",
       "      <td>36.129728</td>\n",
       "      <td>36.595386</td>\n",
       "      <td>37.229641</td>\n",
       "    </tr>\n",
       "    <tr>\n",
       "      <th>0.06</th>\n",
       "      <td>35.668199</td>\n",
       "      <td>35.587486</td>\n",
       "      <td>35.527033</td>\n",
       "      <td>35.498398</td>\n",
       "      <td>35.517649</td>\n",
       "      <td>35.606319</td>\n",
       "      <td>35.793726</td>\n",
       "      <td>36.118410</td>\n",
       "      <td>36.623474</td>\n",
       "      <td>37.307016</td>\n",
       "    </tr>\n",
       "    <tr>\n",
       "      <th>0.07</th>\n",
       "      <td>35.643037</td>\n",
       "      <td>35.557387</td>\n",
       "      <td>35.493777</td>\n",
       "      <td>35.464687</td>\n",
       "      <td>35.487473</td>\n",
       "      <td>35.585323</td>\n",
       "      <td>35.789442</td>\n",
       "      <td>36.140436</td>\n",
       "      <td>36.683318</td>\n",
       "      <td>37.413896</td>\n",
       "    </tr>\n",
       "    <tr>\n",
       "      <th>0.08</th>\n",
       "      <td>35.644898</td>\n",
       "      <td>35.554640</td>\n",
       "      <td>35.488066</td>\n",
       "      <td>35.458701</td>\n",
       "      <td>35.484969</td>\n",
       "      <td>35.591771</td>\n",
       "      <td>35.812198</td>\n",
       "      <td>36.188816</td>\n",
       "      <td>36.768392</td>\n",
       "      <td>37.544563</td>\n",
       "    </tr>\n",
       "    <tr>\n",
       "      <th>0.09</th>\n",
       "      <td>35.668999</td>\n",
       "      <td>35.574278</td>\n",
       "      <td>35.504924</td>\n",
       "      <td>35.475326</td>\n",
       "      <td>35.505170</td>\n",
       "      <td>35.620864</td>\n",
       "      <td>35.857283</td>\n",
       "      <td>36.258944</td>\n",
       "      <td>36.874512</td>\n",
       "      <td>37.695265</td>\n",
       "    </tr>\n",
       "    <tr>\n",
       "      <th>0.10</th>\n",
       "      <td>35.711979</td>\n",
       "      <td>35.612933</td>\n",
       "      <td>35.540902</td>\n",
       "      <td>35.511129</td>\n",
       "      <td>35.544503</td>\n",
       "      <td>35.668956</td>\n",
       "      <td>35.921227</td>\n",
       "      <td>36.347592</td>\n",
       "      <td>36.998593</td>\n",
       "      <td>37.863268</td>\n",
       "    </tr>\n",
       "  </tbody>\n",
       "</table>\n",
       "</div>"
      ],
      "text/plain": [
       "          0.010      0.009      0.008      0.007      0.006      0.005  \\\n",
       "0.01  36.787824  36.745686  36.712506  36.693736  36.697288  36.734211   \n",
       "0.02  36.283192  36.228803  36.186418  36.163114  36.168977  36.217775   \n",
       "0.03  36.004096  35.941256  35.892839  35.867210  35.876138  35.935763   \n",
       "0.04  35.832858  35.763247  35.710200  35.683136  35.695405  35.765106   \n",
       "0.05  35.727658  35.652199  35.595217  35.567214  35.582981  35.662290   \n",
       "0.06  35.668199  35.587486  35.527033  35.498398  35.517649  35.606319   \n",
       "0.07  35.643037  35.557387  35.493777  35.464687  35.487473  35.585323   \n",
       "0.08  35.644898  35.554640  35.488066  35.458701  35.484969  35.591771   \n",
       "0.09  35.668999  35.574278  35.504924  35.475326  35.505170  35.620864   \n",
       "0.10  35.711979  35.612933  35.540902  35.511129  35.544503  35.668956   \n",
       "\n",
       "          0.004      0.003      0.002      0.001  \n",
       "0.01  36.820141  36.978187  37.237089  37.602890  \n",
       "0.02  36.329173  36.531000  36.857135  37.313109  \n",
       "0.03  36.068431  36.305578  36.683904  37.207555  \n",
       "0.04  35.917125  36.185494  36.609384  37.191023  \n",
       "0.05  35.832414  36.129728  36.595386  37.229641  \n",
       "0.06  35.793726  36.118410  36.623474  37.307016  \n",
       "0.07  35.789442  36.140436  36.683318  37.413896  \n",
       "0.08  35.812198  36.188816  36.768392  37.544563  \n",
       "0.09  35.857283  36.258944  36.874512  37.695265  \n",
       "0.10  35.921227  36.347592  36.998593  37.863268  "
      ]
     },
     "execution_count": 31,
     "metadata": {},
     "output_type": "execute_result"
    }
   ],
   "source": [
    "pd.DataFrame([[perplexity[theta, lam] for theta in thetas] for lam in lambdas], index=lambdas, columns=thetas)"
   ]
  },
  {
   "cell_type": "code",
   "execution_count": 32,
   "metadata": {
    "ExecuteTime": {
     "end_time": "2019-09-22T01:28:00.005652Z",
     "start_time": "2019-09-22T01:27:56.585617Z"
    }
   },
   "outputs": [
    {
     "data": {
      "text/plain": [
       "{'loss': 3.594371795654297, 'perplexity': 36.392830670949074, 'time': 3.0}"
      ]
     },
     "execution_count": 32,
     "metadata": {},
     "output_type": "execute_result"
    }
   ],
   "source": [
    "data_test = SequentialIterator(c, c.eval_batch, split='test')\n",
    "evaluate(c.var(use_cache=True, n_cache=500, cache_theta=0.007, cache_lambda=0.08), data_test, net)"
   ]
  }
 ],
 "metadata": {
  "kernelspec": {
   "display_name": "Python 3",
   "language": "python",
   "name": "python3"
  },
  "language_info": {
   "codemirror_mode": {
    "name": "ipython",
    "version": 3
   },
   "file_extension": ".py",
   "mimetype": "text/x-python",
   "name": "python",
   "nbconvert_exporter": "python",
   "pygments_lexer": "ipython3",
   "version": "3.5.2"
  },
  "toc": {
   "base_numbering": 1,
   "nav_menu": {},
   "number_sections": true,
   "sideBar": true,
   "skip_h1_title": false,
   "title_cell": "Table of Contents",
   "title_sidebar": "Contents",
   "toc_cell": false,
   "toc_position": {},
   "toc_section_display": true,
   "toc_window_display": false
  }
 },
 "nbformat": 4,
 "nbformat_minor": 2
}
