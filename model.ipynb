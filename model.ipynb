{
 "cells": [
  {
   "cell_type": "code",
   "execution_count": 1,
   "metadata": {
    "ExecuteTime": {
     "end_time": "2019-09-21T08:23:56.144961Z",
     "start_time": "2019-09-21T08:23:51.951704Z"
    }
   },
   "outputs": [],
   "source": [
    "from u import *\n",
    "from ut import *\n",
    "from model import *\n",
    "from data import *\n",
    "\n",
    "%load_ext autoreload\n",
    "%autoreload 2\n",
    "\n",
    "decoder = (Cache / 'vocab.npy').load()\n",
    "encoder = get_encoder(decoder)\n",
    "n_vocab = len(decoder)"
   ]
  },
  {
   "cell_type": "markdown",
   "metadata": {},
   "source": [
    "# Model Configurations"
   ]
  },
  {
   "cell_type": "code",
   "execution_count": 2,
   "metadata": {
    "ExecuteTime": {
     "end_time": "2019-09-21T08:23:56.175348Z",
     "start_time": "2019-09-21T08:23:56.147168Z"
    },
    "code_folding": []
   },
   "outputs": [],
   "source": [
    "transformer = Dict(\n",
    "    model=Proj / 'model.py', model_class='Transformer', n_vocab=n_vocab,\n",
    "    train_batch=17, train_chunk=1088,\n",
    "    step_eval=500, eval_batch=1, eval_chunk=4096,\n",
    "    cutoffs=[5000, 25000, 50000], adaptive_ratio=4, pos_emb='trained',\n",
    "    n_seq=64, n_layers=16, n_embed=256, n_head=8, n_k=32, n_v=32, n_inner=1024, dropout=0.1,\n",
    "    lr=0.0005, step_warmup=100, scheduler='cosine'\n",
    ")"
   ]
  },
  {
   "cell_type": "code",
   "execution_count": 20,
   "metadata": {
    "ExecuteTime": {
     "end_time": "2019-09-21T08:00:43.867621Z",
     "start_time": "2019-09-21T08:00:43.817827Z"
    }
   },
   "outputs": [
    {
     "name": "stdout",
     "output_type": "stream",
     "text": [
      "cd /data/scratch/zxyan/compression/wikitext-103/hebbian,large\n",
      "CUDA_VISIBLE_DEVICES=0,1,2,3 python3 -m torch.distributed.launch --nproc_per_node=4 --use_env ../../model.py . steps=200000 opt_level=O1\n"
     ]
    }
   ],
   "source": [
    "c = Config(Wiki / 'hebbian,large', transformer,\n",
    "    hebbian=True, hebbian_gamma=0.002, hebbian_T=2500,\n",
    "    train_batch=8, train_chunk=1152,\n",
    "    n_embed=512, n_seq=128, mask_pad=True\n",
    ").save(True)\n",
    "print(c.train(env_gpu=lrange(4), steps=200000, opt='O1'))"
   ]
  },
  {
   "cell_type": "code",
   "execution_count": 22,
   "metadata": {
    "ExecuteTime": {
     "end_time": "2019-09-21T08:02:27.092435Z",
     "start_time": "2019-09-21T08:02:27.007444Z"
    }
   },
   "outputs": [
    {
     "name": "stdout",
     "output_type": "stream",
     "text": [
      "cd /data/scratch/zxyan/compression/wikitext-103/hebbian,large2\n",
      "CUDA_VISIBLE_DEVICES=0,1,2,3,4,5 python3 -m torch.distributed.launch --nproc_per_node=6 --use_env ../../model.py . steps=200000 opt_level=O1\n"
     ]
    }
   ],
   "source": [
    "c = Config(Wiki / 'hebbian,large2', transformer,\n",
    "    hebbian=True, hebbian_gamma=0.002, hebbian_T=2500,\n",
    "    train_batch=7, train_chunk=1152,\n",
    "    n_embed=512, n_k=64, n_v=64, n_seq=96, n_inner=1536, mask_pad=True\n",
    ").save(True)\n",
    "print(c.train(env_gpu=lrange(6), steps=200000, opt='O1'))"
   ]
  },
  {
   "cell_type": "code",
   "execution_count": 3,
   "metadata": {
    "ExecuteTime": {
     "end_time": "2019-09-21T08:24:47.997411Z",
     "start_time": "2019-09-21T08:24:47.931881Z"
    }
   },
   "outputs": [
    {
     "name": "stdout",
     "output_type": "stream",
     "text": [
      "cd /data/scratch/zxyan/micronet/wikitext-103/hebbian\n",
      "CUDA_VISIBLE_DEVICES=2 python3 ../../model.py . steps=200000 opt_level=O1\n"
     ]
    }
   ],
   "source": [
    "c = Config(Wiki / 'hebbian', transformer,\n",
    "           hebbian=True, hebbian_gamma=0.01, hebbian_T=500).save(True)\n",
    "print(c.train(env_gpu=2, steps=200000, opt='O1'))"
   ]
  },
  {
   "cell_type": "markdown",
   "metadata": {},
   "source": [
    "# Cache Parameter Search"
   ]
  },
  {
   "cell_type": "code",
   "execution_count": 30,
   "metadata": {
    "ExecuteTime": {
     "end_time": "2019-09-18T22:42:43.628420Z",
     "start_time": "2019-09-18T22:42:40.779489Z"
    },
    "scrolled": false
   },
   "outputs": [
    {
     "data": {
      "text/plain": [
       "{'loss': 3.610856771469116, 'perplexity': 36.99773784567708, 'time': 2.0}"
      ]
     },
     "execution_count": 30,
     "metadata": {},
     "output_type": "execute_result"
    }
   ],
   "source": [
    "net, step = c.var(device='cuda:1').load_model()\n",
    "from model import evaluate\n",
    "data_val = SequentialIterator(c, c.eval_batch, split='valid')\n",
    "perplexity = {}"
   ]
  },
  {
   "cell_type": "code",
   "execution_count": 50,
   "metadata": {
    "ExecuteTime": {
     "end_time": "2019-09-18T23:04:26.714173Z",
     "start_time": "2019-09-18T23:03:52.444446Z"
    }
   },
   "outputs": [],
   "source": [
    "thetas = [1e-2, 1e-3, 1e-4]\n",
    "thetas = [1e-1, 5e-2, 2e-2, 1e-2]\n",
    "thetas = [1e-2, 5e-3, 2e-3, 1e-3]\n",
    "thetas = [1e-2, 9e-3, 8e-3, 7e-3, 6e-3, 5e-3, 4e-3, 3e-3, 2e-3, 1e-3]\n",
    "thetas = [6e-3, 5.5e-3, 5e-3, 4.5e-3, 4e-3]\n",
    "lambdas = [0.05, 0.1, 0.2, 0.3, 0.4]\n",
    "lambdas = [0.01, 0.02, 0.03, 0.04, 0.05, 0.06, 0.07, 0.08, 0.09, 0.1]\n",
    "lambdas = [0.05, 0.055, 0.06, 0.065, 0.07]\n",
    "for theta in thetas:\n",
    "    for lam in lambdas:\n",
    "        if (theta, lam) in perplexity:\n",
    "            continue\n",
    "        net.loss.cache_keys = net.loss.cache_values = None\n",
    "        perplexity[theta, lam] = evaluate(c.var(use_cache=True, n_cache=500, cache_theta=theta, cache_lambda=lam), data_val, net)['perplexity']"
   ]
  },
  {
   "cell_type": "code",
   "execution_count": 51,
   "metadata": {
    "ExecuteTime": {
     "end_time": "2019-09-18T23:04:26.758720Z",
     "start_time": "2019-09-18T23:04:26.716063Z"
    }
   },
   "outputs": [
    {
     "data": {
      "text/html": [
       "<div>\n",
       "<style scoped>\n",
       "    .dataframe tbody tr th:only-of-type {\n",
       "        vertical-align: middle;\n",
       "    }\n",
       "\n",
       "    .dataframe tbody tr th {\n",
       "        vertical-align: top;\n",
       "    }\n",
       "\n",
       "    .dataframe thead th {\n",
       "        text-align: right;\n",
       "    }\n",
       "</style>\n",
       "<table border=\"1\" class=\"dataframe\">\n",
       "  <thead>\n",
       "    <tr style=\"text-align: right;\">\n",
       "      <th></th>\n",
       "      <th>0.006</th>\n",
       "      <th>0.0055</th>\n",
       "      <th>0.005</th>\n",
       "      <th>0.0045</th>\n",
       "      <th>0.004</th>\n",
       "    </tr>\n",
       "  </thead>\n",
       "  <tbody>\n",
       "    <tr>\n",
       "      <th>0.050</th>\n",
       "      <td>35.721840</td>\n",
       "      <td>35.695916</td>\n",
       "      <td>35.685143</td>\n",
       "      <td>35.693559</td>\n",
       "      <td>35.725954</td>\n",
       "    </tr>\n",
       "    <tr>\n",
       "      <th>0.055</th>\n",
       "      <td>35.709638</td>\n",
       "      <td>35.682991</td>\n",
       "      <td>35.672180</td>\n",
       "      <td>35.681477</td>\n",
       "      <td>35.715819</td>\n",
       "    </tr>\n",
       "    <tr>\n",
       "      <th>0.060</th>\n",
       "      <td>35.706403</td>\n",
       "      <td>35.679095</td>\n",
       "      <td>35.668310</td>\n",
       "      <td>35.678482</td>\n",
       "      <td>35.714746</td>\n",
       "    </tr>\n",
       "    <tr>\n",
       "      <th>0.065</th>\n",
       "      <td>35.711043</td>\n",
       "      <td>35.683101</td>\n",
       "      <td>35.672409</td>\n",
       "      <td>35.683467</td>\n",
       "      <td>35.721670</td>\n",
       "    </tr>\n",
       "    <tr>\n",
       "      <th>0.070</th>\n",
       "      <td>35.722683</td>\n",
       "      <td>35.694154</td>\n",
       "      <td>35.683544</td>\n",
       "      <td>35.695525</td>\n",
       "      <td>35.735674</td>\n",
       "    </tr>\n",
       "  </tbody>\n",
       "</table>\n",
       "</div>"
      ],
      "text/plain": [
       "          0.0060     0.0055     0.0050     0.0045     0.0040\n",
       "0.050  35.721840  35.695916  35.685143  35.693559  35.725954\n",
       "0.055  35.709638  35.682991  35.672180  35.681477  35.715819\n",
       "0.060  35.706403  35.679095  35.668310  35.678482  35.714746\n",
       "0.065  35.711043  35.683101  35.672409  35.683467  35.721670\n",
       "0.070  35.722683  35.694154  35.683544  35.695525  35.735674"
      ]
     },
     "execution_count": 51,
     "metadata": {},
     "output_type": "execute_result"
    }
   ],
   "source": [
    "pd.DataFrame([[perplexity[theta, lam] for theta in thetas] for lam in lambdas], index=lambdas, columns=thetas)"
   ]
  },
  {
   "cell_type": "code",
   "execution_count": 53,
   "metadata": {
    "ExecuteTime": {
     "end_time": "2019-09-18T23:07:54.975590Z",
     "start_time": "2019-09-18T23:07:52.544151Z"
    }
   },
   "outputs": [
    {
     "data": {
      "text/plain": [
       "{'loss': 3.6028714179992676, 'perplexity': 36.70347429429272, 'time': 2.0}"
      ]
     },
     "execution_count": 53,
     "metadata": {},
     "output_type": "execute_result"
    }
   ],
   "source": [
    "data_test = SequentialIterator(c, c.eval_batch, split='test')\n",
    "evaluate(c.var(use_cache=True, n_cache=500, cache_theta=0.005, cache_lambda=0.06), data_test, net)"
   ]
  }
 ],
 "metadata": {
  "kernelspec": {
   "display_name": "Python 3",
   "language": "python",
   "name": "python3"
  },
  "language_info": {
   "codemirror_mode": {
    "name": "ipython",
    "version": 3
   },
   "file_extension": ".py",
   "mimetype": "text/x-python",
   "name": "python",
   "nbconvert_exporter": "python",
   "pygments_lexer": "ipython3",
   "version": "3.6.8"
  },
  "toc": {
   "base_numbering": 1,
   "nav_menu": {},
   "number_sections": true,
   "sideBar": true,
   "skip_h1_title": false,
   "title_cell": "Table of Contents",
   "title_sidebar": "Contents",
   "toc_cell": false,
   "toc_position": {},
   "toc_section_display": true,
   "toc_window_display": false
  }
 },
 "nbformat": 4,
 "nbformat_minor": 2
}
