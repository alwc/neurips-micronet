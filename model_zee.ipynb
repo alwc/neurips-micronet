{
 "cells": [
  {
   "cell_type": "code",
   "execution_count": 9,
   "metadata": {
    "ExecuteTime": {
     "end_time": "2019-09-28T18:38:25.796529Z",
     "start_time": "2019-09-28T18:38:25.477072Z"
    }
   },
   "outputs": [
    {
     "name": "stdout",
     "output_type": "stream",
     "text": [
      "The autoreload extension is already loaded. To reload it, use:\n",
      "  %reload_ext autoreload\n"
     ]
    }
   ],
   "source": [
    "from u import *\n",
    "from ut import *\n",
    "from model import *\n",
    "from data import *\n",
    "\n",
    "%load_ext autoreload\n",
    "%autoreload 2\n",
    "\n",
    "decoder = (Cache / 'vocab.npy').load()\n",
    "encoder = get_encoder(decoder)\n",
    "n_vocab = len(decoder)"
   ]
  },
  {
   "cell_type": "markdown",
   "metadata": {},
   "source": [
    "# Model Configurations\n",
    "\n",
    "Also prints out the command to run training"
   ]
  },
  {
   "cell_type": "code",
   "execution_count": 10,
   "metadata": {
    "ExecuteTime": {
     "end_time": "2019-09-28T18:38:26.086666Z",
     "start_time": "2019-09-28T18:38:26.047362Z"
    },
    "code_folding": []
   },
   "outputs": [],
   "source": [
    "# base hyperparameters for transformer\n",
    "transformer = dict(\n",
    "    model=Proj / 'model.py', model_class='Transformer', n_vocab=n_vocab, step_save=5000,\n",
    "    train_batch=17, train_chunk=1088,\n",
    "    step_eval=500, eval_batch=1, eval_chunk=4096,\n",
    "    cutoffs=[5000, 25000, 50000], adaptive_ratio=4, pos_emb='trained',\n",
    "    n_seq=64, n_layers=16, n_embed=256, n_head=8, n_k=32, n_v=32, n_inner=1024, dropout=0.1,\n",
    "    lr=0.0005, step_warmup=100, scheduler='cosine'\n",
    ")"
   ]
  },
  {
   "cell_type": "code",
   "execution_count": 11,
   "metadata": {
    "ExecuteTime": {
     "end_time": "2019-09-28T18:38:26.371394Z",
     "start_time": "2019-09-28T18:38:26.313772Z"
    }
   },
   "outputs": [
    {
     "name": "stdout",
     "output_type": "stream",
     "text": [
      "cd /data/scratch/zxyan/micronet/wikitext-103/hebbian,large\n",
      "CUDA_VISIBLE_DEVICES=0,1,2,3 python3 -m torch.distributed.launch --nproc_per_node=4 --use_env ../../model.py . steps=200000 opt_level=O1\n"
     ]
    }
   ],
   "source": [
    "# create config object from dictionary\n",
    "c = Config(Wiki / 'hebbian,large', # first argument to config is the path of the folder to create for the run\n",
    "    transformer,\n",
    "    hebbian=True, hebbian_gamma=0.002, hebbian_T=2500,\n",
    "    train_batch=8, train_chunk=1152,\n",
    "    n_embed=512, n_seq=128\n",
    ").save(True) # save to the folder\n",
    "\n",
    "# print out command to run the training\n",
    "print(c.train(env_gpu=lrange(4), steps=200000, opt='O1'))"
   ]
  },
  {
   "cell_type": "code",
   "execution_count": 12,
   "metadata": {
    "ExecuteTime": {
     "end_time": "2019-09-28T18:38:26.859897Z",
     "start_time": "2019-09-28T18:38:26.801555Z"
    }
   },
   "outputs": [
    {
     "name": "stdout",
     "output_type": "stream",
     "text": [
      "cd /data/scratch/zxyan/micronet/wikitext-103/hebbian,large2\n",
      "CUDA_VISIBLE_DEVICES=0,1,2,3,4,5 python3 -m torch.distributed.launch --nproc_per_node=6 --use_env ../../model.py . steps=200000 opt_level=O1\n"
     ]
    }
   ],
   "source": [
    "c = Config(Wiki / 'hebbian,large2', transformer,\n",
    "    hebbian=True, hebbian_gamma=0.002, hebbian_T=2500,\n",
    "    train_batch=7, train_chunk=1152,\n",
    "    n_embed=512, n_k=64, n_v=64, n_seq=96, n_inner=1536\n",
    ").save(True)\n",
    "print(c.train(env_gpu=lrange(6), steps=200000, opt='O1'))"
   ]
  },
  {
   "cell_type": "code",
   "execution_count": 13,
   "metadata": {
    "ExecuteTime": {
     "end_time": "2019-09-28T18:38:27.237772Z",
     "start_time": "2019-09-28T18:38:27.180436Z"
    }
   },
   "outputs": [
    {
     "name": "stdout",
     "output_type": "stream",
     "text": [
      "cd /data/scratch/zxyan/micronet/wikitext-103/hebbian\n",
      "CUDA_VISIBLE_DEVICES=2 python3 ../../model.py . steps=200000 opt_level=O1\n"
     ]
    }
   ],
   "source": [
    "c = Config(Wiki / 'hebbian', transformer,\n",
    "           hebbian=True, hebbian_gamma=0.01, hebbian_T=500).save(True)\n",
    "print(c.train(env_gpu=2, steps=200000, opt='O1'))"
   ]
  },
  {
   "cell_type": "code",
   "execution_count": 14,
   "metadata": {
    "ExecuteTime": {
     "end_time": "2019-09-28T18:38:27.787391Z",
     "start_time": "2019-09-28T18:38:27.412144Z"
    },
    "scrolled": true
   },
   "outputs": [
    {
     "name": "stdout",
     "output_type": "stream",
     "text": [
      "cd /data/scratch/zxyan/micronet/wikitext-103/transformer,lightconv\n",
      "CUDA_VISIBLE_DEVICES=1 python3 ../../model.py . steps=200000 opt_level=O0\n"
     ]
    }
   ],
   "source": [
    "layers = []\n",
    "for i in range(transformer['n_layers']):\n",
    "    if i < 5:\n",
    "        layers.append(dict(lc_kernel_size=3))\n",
    "    elif i < 10:\n",
    "        layers.append(dict(lc_kernel_size=7))\n",
    "    else:\n",
    "        layers.append(dict(lc_kernel_size=15))\n",
    "c = Config(Wiki / 'transformer,lightconv', transformer, train_batch=10,\n",
    "           light_conv=True, layers=layers,\n",
    "           hebbian=True, hebbian_gamma=0.01, hebbian_T=500).save(True)\n",
    "print(c.train(env_gpu=1, steps=200000, opt='O0'))"
   ]
  },
  {
   "cell_type": "code",
   "execution_count": 15,
   "metadata": {
    "ExecuteTime": {
     "end_time": "2019-09-28T18:38:28.022336Z",
     "start_time": "2019-09-28T18:38:27.789298Z"
    }
   },
   "outputs": [
    {
     "name": "stdout",
     "output_type": "stream",
     "text": [
      "cd /data/scratch/zxyan/micronet/wikitext-103/gru\n",
      "CUDA_VISIBLE_DEVICES=1 python3 ../../model.py . steps=200000 opt_level=O0\n"
     ]
    }
   ],
   "source": [
    "c = Config(Wiki / 'gru',\n",
    "    model=Proj / 'model.py', model_class='RNN', net='GRU', n_vocab=n_vocab, step_save=5000,\n",
    "    train_batch=11, n_seq=2048, step_eval=1000, eval_batch=1, eval_chunk=8192,\n",
    "    cutoffs=[5000, 25000, 50000], adaptive_ratio=4,\n",
    "    lr=0.01, step_warmup=100, scheduler='rsqrt',\n",
    "    num_layers=1, n_embed=512, n_hidden=2048, dropout=0.1,\n",
    "    hebbian=True, hebbian_gamma=0.01, hebbian_T=500\n",
    ").save(True)\n",
    "print(c.train(env_gpu=1, steps=200000))"
   ]
  },
  {
   "cell_type": "code",
   "execution_count": 16,
   "metadata": {
    "ExecuteTime": {
     "end_time": "2019-09-28T18:38:28.293419Z",
     "start_time": "2019-09-28T18:38:28.025670Z"
    },
    "code_folding": []
   },
   "outputs": [
    {
     "name": "stdout",
     "output_type": "stream",
     "text": [
      "cd /data/scratch/zxyan/micronet/wikitext-103/sorted,hebbian\n",
      "CUDA_VISIBLE_DEVICES=2 python3 ../../model.py . steps=200000 opt_level=O1\n"
     ]
    }
   ],
   "source": [
    "sorted_hebbian = transformer.copy()\n",
    "sorted_hebbian.update(dict(\n",
    "    hebbian=True, hebbian_gamma=0.01, hebbian_T=500,\n",
    "    vocab_sorted=True, cutoffs=[3500, 25000], n_embeds=[256, 64, 4]\n",
    "))\n",
    "c = Config(Wiki / 'sorted,hebbian', sorted_hebbian).save(True)\n",
    "print(c.train(env_gpu=2, steps=200000, opt='O1'))"
   ]
  },
  {
   "cell_type": "code",
   "execution_count": 17,
   "metadata": {
    "ExecuteTime": {
     "end_time": "2019-09-28T18:38:28.655185Z",
     "start_time": "2019-09-28T18:38:28.584755Z"
    }
   },
   "outputs": [
    {
     "name": "stdout",
     "output_type": "stream",
     "text": [
      "cd /data/scratch/zxyan/micronet/wikitext-103/sorted,hebbian,compound\n",
      "CUDA_VISIBLE_DEVICES=0 python3 ../../model.py . steps=200000 opt_level=O1\n"
     ]
    }
   ],
   "source": [
    "sorted_hebbian_compound = sorted_hebbian.copy()\n",
    "layers = []\n",
    "for i in range(sorted_hebbian_compound['n_layers']):\n",
    "    # more heads when shallow, less heads when deep\n",
    "    # smaller inner when shallow\n",
    "    if i < 4:\n",
    "        layer = dict(n_inner=64, n_head=8, n_k=16, n_v=16)\n",
    "    elif i < 8:\n",
    "        layer = dict(n_inner=256, n_head=4, n_k=32, n_v=32)\n",
    "    elif i < 10:\n",
    "        layer = dict(n_inner=1024, n_head=4, n_k=64, n_v=64)\n",
    "    elif i < 12:\n",
    "        layer = dict(n_inner=1024, n_head=4, n_k=64, n_v=64)\n",
    "    elif i < 16:\n",
    "        layer = dict(n_inner=1536, n_head=2, n_k=128, n_v=128)\n",
    "    layers.append(layer)\n",
    "\n",
    "c = Config(Wiki / 'sorted,hebbian,compound', sorted_hebbian_compound, layers=layers, train_batch=18).save(True)\n",
    "print(c.train(env_gpu=0, steps=200000, opt='O1'))"
   ]
  },
  {
   "cell_type": "code",
   "execution_count": 18,
   "metadata": {
    "ExecuteTime": {
     "end_time": "2019-09-28T18:38:29.416868Z",
     "start_time": "2019-09-28T18:38:29.361887Z"
    }
   },
   "outputs": [
    {
     "name": "stdout",
     "output_type": "stream",
     "text": [
      "cd /data/scratch/zxyan/micronet/wikitext-103/sorted,hebbian,layer12\n",
      "CUDA_VISIBLE_DEVICES=2 python3 ../../model.py . steps=200000 opt_level=O1\n"
     ]
    }
   ],
   "source": [
    "sorted_hebbian_layer12 = sorted_hebbian.copy()\n",
    "sorted_hebbian_layer12.update(dict(n_layers=12, train_batch=18))\n",
    "c = Config(Wiki / 'sorted,hebbian,layer12', sorted_hebbian_layer12).save(True)\n",
    "print(c.train(env_gpu=2, steps=200000, opt='O1'))"
   ]
  },
  {
   "cell_type": "code",
   "execution_count": 19,
   "metadata": {
    "ExecuteTime": {
     "end_time": "2019-09-28T18:38:30.410075Z",
     "start_time": "2019-09-28T18:38:30.350790Z"
    }
   },
   "outputs": [
    {
     "name": "stdout",
     "output_type": "stream",
     "text": [
      "S=$HOME/Research/exercises CUDA_VISIBLE_DEVICES=0,1,2,3,4,5,6,7 python3 -m torch.distributed.launch --nproc_per_node=8 --use_env ../../model.py . steps=200000 opt_level=O1\n"
     ]
    }
   ],
   "source": [
    "sorted_hebbian_large = sorted_hebbian.copy()\n",
    "sorted_hebbian_large.update(dict(\n",
    "    train_batch=7, train_chunk=1152,\n",
    "    n_embeds=[512, 256, 16],\n",
    "    n_embed=512, n_k=64, n_v=64, n_seq=96, n_inner=1536\n",
    "))\n",
    "c = Config(Wiki / 'sorted,hebbian,large', sorted_hebbian_large).save(True)\n",
    "print('S=$HOME/Research/exercises', c.train(env_gpu=lrange(8), steps=200000, opt='O1').split('\\n')[1])"
   ]
  },
  {
   "cell_type": "code",
   "execution_count": 20,
   "metadata": {
    "ExecuteTime": {
     "end_time": "2019-09-28T18:38:32.638119Z",
     "start_time": "2019-09-28T18:38:32.583189Z"
    }
   },
   "outputs": [
    {
     "name": "stdout",
     "output_type": "stream",
     "text": [
      "cd /data/scratch/zxyan/micronet/wikitext-103/sorted,hebbian,softmax\n",
      "CUDA_VISIBLE_DEVICES=0 python3 ../../model.py . steps=200000 opt_level=O1\n"
     ]
    }
   ],
   "source": [
    "sorted_hebbian_softmax = sorted_hebbian.copy()\n",
    "sorted_hebbian_softmax.update(dict(fix_softmax=True, train_batch=16))\n",
    "c = Config(Wiki / 'sorted,hebbian,softmax', sorted_hebbian_softmax).save(True)\n",
    "print(c.train(env_gpu=0, steps=200000, opt='O1'))"
   ]
  },
  {
   "cell_type": "code",
   "execution_count": 23,
   "metadata": {
    "ExecuteTime": {
     "end_time": "2019-09-28T18:41:48.270974Z",
     "start_time": "2019-09-28T18:41:48.126529Z"
    }
   },
   "outputs": [
    {
     "name": "stdout",
     "output_type": "stream",
     "text": [
      "cd /data/scratch/zxyan/micronet/wikitext-103/test\n",
      "CUDA_VISIBLE_DEVICES=0 python3 ../../model.py . steps=200000 opt_level=O1\n"
     ]
    }
   ],
   "source": [
    "tes = sorted_hebbian.copy()\n",
    "tes.update(dict(fix_softmax=True, train_batch=16))\n",
    "c = Config(Wiki / 'test', tes).save(True)\n",
    "print(c.train(env_gpu=0, steps=200000, opt='O1'))"
   ]
  },
  {
   "cell_type": "code",
   "execution_count": 21,
   "metadata": {
    "ExecuteTime": {
     "end_time": "2019-09-28T18:38:33.024713Z",
     "start_time": "2019-09-28T18:38:32.971214Z"
    }
   },
   "outputs": [
    {
     "name": "stdout",
     "output_type": "stream",
     "text": [
      "cd /data/scratch/zxyan/micronet/wikitext-103/sorted,hebbian,mask\n",
      "CUDA_VISIBLE_DEVICES=3 python3 ../../model.py . steps=200000 opt_level=O1\n"
     ]
    }
   ],
   "source": [
    "sorted_hebbian_mask = sorted_hebbian.copy()\n",
    "sorted_hebbian_mask.update(dict(mask_pad=True, fix_softmax=True, train_batch=16))\n",
    "c = Config(Wiki / 'sorted,hebbian,mask', sorted_hebbian_mask).save(True)\n",
    "print(c.train(env_gpu=3, steps=200000, opt='O1'))"
   ]
  },
  {
   "cell_type": "code",
   "execution_count": 22,
   "metadata": {
    "ExecuteTime": {
     "end_time": "2019-09-28T18:38:36.403800Z",
     "start_time": "2019-09-28T18:38:36.346377Z"
    }
   },
   "outputs": [
    {
     "name": "stdout",
     "output_type": "stream",
     "text": [
      "S=$HOME/Research/exercises CUDA_VISIBLE_DEVICES=0,1,2,3,4,5,6,7 python3 -m torch.distributed.launch --nproc_per_node=8 --use_env ../../model.py . steps=200000 opt_level=O1\n"
     ]
    }
   ],
   "source": [
    "large = sorted_hebbian_softmax.copy()\n",
    "large.update(dict(\n",
    "    train_batch=7, train_chunk=1152,\n",
    "    n_embeds=[512, 256, 16],\n",
    "    n_embed=512, n_k=64, n_v=64, n_seq=96, n_inner=1536\n",
    "))\n",
    "c = Config(Wiki / 'large', large).save(True)\n",
    "print('S=$HOME/Research/exercises', c.train(env_gpu=lrange(8), steps=200000, opt='O1').split('\\n')[1])"
   ]
  },
  {
   "cell_type": "code",
   "execution_count": 60,
   "metadata": {
    "ExecuteTime": {
     "end_time": "2019-09-27T13:20:36.519413Z",
     "start_time": "2019-09-27T13:20:36.444949Z"
    }
   },
   "outputs": [
    {
     "name": "stdout",
     "output_type": "stream",
     "text": [
      "cd /data/scratch/zxyan/micronet/wikitext-103/tie_layers\n",
      "CUDA_VISIBLE_DEVICES=1 python3 ../../model.py . steps=200000 opt_level=O1\n"
     ]
    }
   ],
   "source": [
    "tie_layers = sorted_hebbian_mask.copy()\n",
    "tie_layers.update(dict(\n",
    "    tie_layers=True,\n",
    "    train_batch=10,\n",
    "    n_k=64, n_v=64, n_inner=2048,\n",
    "))\n",
    "c = Config(Wiki / 'tie_layers', tie_layers).save(True)\n",
    "print(c.train(env_gpu=1, steps=200000, opt='O1'))"
   ]
  },
  {
   "cell_type": "code",
   "execution_count": 64,
   "metadata": {
    "ExecuteTime": {
     "end_time": "2019-09-27T13:21:11.590318Z",
     "start_time": "2019-09-27T13:21:11.529493Z"
    }
   },
   "outputs": [
    {
     "name": "stdout",
     "output_type": "stream",
     "text": [
      "cd /data/scratch/zxyan/micronet/wikitext-103/tie_layers,4x4\n",
      "CUDA_VISIBLE_DEVICES=2 python3 ../../model.py . steps=200000 opt_level=O1\n"
     ]
    }
   ],
   "source": [
    "tie_layers_4x4 = sorted_hebbian_mask.copy()\n",
    "tie_layers_4x4.update(dict(\n",
    "    tie_layers=[4, 4, 4, 4],\n",
    "    train_batch=16\n",
    "))\n",
    "c = Config(Wiki / 'tie_layers,4x4', tie_layers_4x4).save(True)\n",
    "print(c.train(env_gpu=2, steps=200000, opt='O1'))"
   ]
  },
  {
   "cell_type": "code",
   "execution_count": 66,
   "metadata": {
    "ExecuteTime": {
     "end_time": "2019-09-27T13:21:53.464034Z",
     "start_time": "2019-09-27T13:21:53.389665Z"
    }
   },
   "outputs": [
    {
     "name": "stdout",
     "output_type": "stream",
     "text": [
      "cd /data/scratch/zxyan/micronet/wikitext-103/tie_layers,8x2\n",
      "CUDA_VISIBLE_DEVICES=1 python3 ../../model.py . steps=200000 opt_level=O1\n"
     ]
    }
   ],
   "source": [
    "tie_layers_8x2 = sorted_hebbian_mask.copy()\n",
    "tie_layers_8x2.update(dict(\n",
    "    tie_layers=[2] * 8,\n",
    "    train_batch=16\n",
    "))\n",
    "c = Config(Wiki / 'tie_layers,8x2', tie_layers_8x2).save(True)\n",
    "print(c.train(env_gpu=1, steps=200000, opt='O1'))"
   ]
  },
  {
   "cell_type": "code",
   "execution_count": 50,
   "metadata": {
    "ExecuteTime": {
     "end_time": "2019-09-26T19:31:34.306349Z",
     "start_time": "2019-09-26T19:31:34.249390Z"
    }
   },
   "outputs": [
    {
     "name": "stdout",
     "output_type": "stream",
     "text": [
      "cd /data/scratch/zxyan/micronet/wikitext-103/universal\n",
      "CUDA_VISIBLE_DEVICES=2 python3 ../../model.py . steps=200000 opt_level=O1\n"
     ]
    }
   ],
   "source": [
    "universal = sorted_hebbian_mask.copy()\n",
    "universal.update(dict(\n",
    "    model_class='UniversalTransformer',\n",
    "    train_batch=10,\n",
    "    n_k=64, n_v=64, n_inner=2048,\n",
    "    threshold=0.99, time_penalty=0.1\n",
    "))\n",
    "c = Config(Wiki / 'universal', universal).save(True)\n",
    "print(c.train(env_gpu=2, steps=200000, opt='O1'))"
   ]
  },
  {
   "cell_type": "markdown",
   "metadata": {},
   "source": [
    "# Cache Parameter Search"
   ]
  },
  {
   "cell_type": "code",
   "execution_count": 2,
   "metadata": {
    "ExecuteTime": {
     "end_time": "2019-09-28T14:43:23.090409Z",
     "start_time": "2019-09-28T14:43:16.778006Z"
    },
    "scrolled": false
   },
   "outputs": [
    {
     "name": "stdout",
     "output_type": "stream",
     "text": [
      "Model at step 200000\n"
     ]
    }
   ],
   "source": [
    "# loads the model (net and step) for evaluation\n",
    "c = Config(Wiki / 'sorted,hebbian,softmax').load()\n",
    "net, step = c.var(device='cuda:0').load_model('max')\n",
    "from model import evaluate\n",
    "data_val = SequentialIterator(c, c.eval_batch, split='valid')\n",
    "perplexity = {}\n",
    "print('Model at step', step)"
   ]
  },
  {
   "cell_type": "code",
   "execution_count": 5,
   "metadata": {
    "ExecuteTime": {
     "end_time": "2019-09-28T14:31:43.332331Z",
     "start_time": "2019-09-28T14:28:23.890877Z"
    },
    "code_folding": []
   },
   "outputs": [],
   "source": [
    "thetas = [1e-2, 1e-3, 1e-4]\n",
    "thetas = [1e-1, 5e-2, 2e-2, 1e-2]\n",
    "thetas = [1e-2, 5e-3, 2e-3, 1e-3]\n",
    "thetas = [1e-2, 9e-3, 8e-3, 7e-3, 6e-3, 5e-3, 4e-3, 3e-3, 2e-3, 1e-3]\n",
    "# thetas = [6e-3, 5.5e-3, 5e-3, 4.5e-3, 4e-3]\n",
    "# thetas = np.arange(1e-3, 0, -1e-4)\n",
    "\n",
    "lambdas = [0.05, 0.1, 0.2, 0.3, 0.4]\n",
    "lambdas = [0.01, 0.02, 0.03, 0.04, 0.05, 0.06, 0.07, 0.08, 0.09, 0.1]\n",
    "# lambdas = [0.05, 0.055, 0.06, 0.065, 0.07]\n",
    "# lambdas = np.arange(0.03, 0, -0.01)\n",
    "\n",
    "# search over cache parameters\n",
    "for theta in thetas:\n",
    "    for lam in lambdas:\n",
    "        if (theta, lam) in perplexity:\n",
    "            continue\n",
    "        net.loss.cache_keys = net.loss.cache_values = None\n",
    "        perplexity[theta, lam] = evaluate(c.var(use_cache=True, n_cache=500, cache_theta=theta, cache_lambda=lam), data_val, net)['perplexity']"
   ]
  },
  {
   "cell_type": "code",
   "execution_count": 6,
   "metadata": {
    "ExecuteTime": {
     "end_time": "2019-09-28T14:31:43.402334Z",
     "start_time": "2019-09-28T14:31:43.334136Z"
    }
   },
   "outputs": [
    {
     "data": {
      "text/html": [
       "<div>\n",
       "<style scoped>\n",
       "    .dataframe tbody tr th:only-of-type {\n",
       "        vertical-align: middle;\n",
       "    }\n",
       "\n",
       "    .dataframe tbody tr th {\n",
       "        vertical-align: top;\n",
       "    }\n",
       "\n",
       "    .dataframe thead th {\n",
       "        text-align: right;\n",
       "    }\n",
       "</style>\n",
       "<table border=\"1\" class=\"dataframe\">\n",
       "  <thead>\n",
       "    <tr style=\"text-align: right;\">\n",
       "      <th>theta</th>\n",
       "      <th>0.01</th>\n",
       "      <th>0.009</th>\n",
       "      <th>0.008</th>\n",
       "      <th>0.007</th>\n",
       "      <th>0.006</th>\n",
       "      <th>0.005</th>\n",
       "      <th>0.004</th>\n",
       "      <th>0.003</th>\n",
       "      <th>0.002</th>\n",
       "      <th>0.001</th>\n",
       "    </tr>\n",
       "    <tr>\n",
       "      <th>lambda</th>\n",
       "      <th></th>\n",
       "      <th></th>\n",
       "      <th></th>\n",
       "      <th></th>\n",
       "      <th></th>\n",
       "      <th></th>\n",
       "      <th></th>\n",
       "      <th></th>\n",
       "      <th></th>\n",
       "      <th></th>\n",
       "    </tr>\n",
       "  </thead>\n",
       "  <tbody>\n",
       "    <tr>\n",
       "      <th>0.01</th>\n",
       "      <td>34.502601</td>\n",
       "      <td>34.418920</td>\n",
       "      <td>34.332323</td>\n",
       "      <td>34.247945</td>\n",
       "      <td>34.175684</td>\n",
       "      <td>34.132730</td>\n",
       "      <td>34.144239</td>\n",
       "      <td>34.240140</td>\n",
       "      <td>34.451669</td>\n",
       "      <td>34.800362</td>\n",
       "    </tr>\n",
       "    <tr>\n",
       "      <th>0.02</th>\n",
       "      <td>34.150915</td>\n",
       "      <td>34.044402</td>\n",
       "      <td>33.934540</td>\n",
       "      <td>33.827920</td>\n",
       "      <td>33.737501</td>\n",
       "      <td>33.685009</td>\n",
       "      <td>33.701814</td>\n",
       "      <td>33.825081</td>\n",
       "      <td>34.092390</td>\n",
       "      <td>34.527584</td>\n",
       "    </tr>\n",
       "    <tr>\n",
       "      <th>0.03</th>\n",
       "      <td>33.977148</td>\n",
       "      <td>33.854255</td>\n",
       "      <td>33.727681</td>\n",
       "      <td>33.605426</td>\n",
       "      <td>33.502683</td>\n",
       "      <td>33.444655</td>\n",
       "      <td>33.467668</td>\n",
       "      <td>33.614601</td>\n",
       "      <td>33.927381</td>\n",
       "      <td>34.429655</td>\n",
       "    </tr>\n",
       "    <tr>\n",
       "      <th>0.04</th>\n",
       "      <td>33.888657</td>\n",
       "      <td>33.752103</td>\n",
       "      <td>33.611780</td>\n",
       "      <td>33.476709</td>\n",
       "      <td>33.364081</td>\n",
       "      <td>33.302101</td>\n",
       "      <td>33.331586</td>\n",
       "      <td>33.500407</td>\n",
       "      <td>33.854101</td>\n",
       "      <td>34.415145</td>\n",
       "    </tr>\n",
       "    <tr>\n",
       "      <th>0.05</th>\n",
       "      <td>33.852600</td>\n",
       "      <td>33.704008</td>\n",
       "      <td>33.551483</td>\n",
       "      <td>33.405176</td>\n",
       "      <td>33.283955</td>\n",
       "      <td>33.218940</td>\n",
       "      <td>33.254964</td>\n",
       "      <td>33.444520</td>\n",
       "      <td>33.836551</td>\n",
       "      <td>34.451916</td>\n",
       "    </tr>\n",
       "    <tr>\n",
       "      <th>0.06</th>\n",
       "      <td>33.853173</td>\n",
       "      <td>33.693515</td>\n",
       "      <td>33.529828</td>\n",
       "      <td>33.373262</td>\n",
       "      <td>33.244325</td>\n",
       "      <td>33.176769</td>\n",
       "      <td>33.219264</td>\n",
       "      <td>33.428903</td>\n",
       "      <td>33.857629</td>\n",
       "      <td>34.524513</td>\n",
       "    </tr>\n",
       "    <tr>\n",
       "      <th>0.07</th>\n",
       "      <td>33.881475</td>\n",
       "      <td>33.711393</td>\n",
       "      <td>33.537232</td>\n",
       "      <td>33.371018</td>\n",
       "      <td>33.234902</td>\n",
       "      <td>33.165127</td>\n",
       "      <td>33.214140</td>\n",
       "      <td>33.443331</td>\n",
       "      <td>33.907641</td>\n",
       "      <td>34.624281</td>\n",
       "    </tr>\n",
       "    <tr>\n",
       "      <th>0.08</th>\n",
       "      <td>33.931894</td>\n",
       "      <td>33.751813</td>\n",
       "      <td>33.567662</td>\n",
       "      <td>33.392340</td>\n",
       "      <td>33.249406</td>\n",
       "      <td>33.177647</td>\n",
       "      <td>33.233112</td>\n",
       "      <td>33.481530</td>\n",
       "      <td>33.980615</td>\n",
       "      <td>34.745901</td>\n",
       "    </tr>\n",
       "    <tr>\n",
       "      <th>0.09</th>\n",
       "      <td>34.000672</td>\n",
       "      <td>33.810987</td>\n",
       "      <td>33.617190</td>\n",
       "      <td>33.432999</td>\n",
       "      <td>33.283527</td>\n",
       "      <td>33.209952</td>\n",
       "      <td>33.271903</td>\n",
       "      <td>33.539295</td>\n",
       "      <td>34.072709</td>\n",
       "      <td>34.885835</td>\n",
       "    </tr>\n",
       "    <tr>\n",
       "      <th>0.10</th>\n",
       "      <td>34.085238</td>\n",
       "      <td>33.886144</td>\n",
       "      <td>33.682921</td>\n",
       "      <td>33.490153</td>\n",
       "      <td>33.334312</td>\n",
       "      <td>33.258991</td>\n",
       "      <td>33.327454</td>\n",
       "      <td>33.613671</td>\n",
       "      <td>34.181079</td>\n",
       "      <td>35.041601</td>\n",
       "    </tr>\n",
       "  </tbody>\n",
       "</table>\n",
       "</div>"
      ],
      "text/plain": [
       "theta       0.010      0.009      0.008      0.007      0.006      0.005  \\\n",
       "lambda                                                                     \n",
       "0.01    34.502601  34.418920  34.332323  34.247945  34.175684  34.132730   \n",
       "0.02    34.150915  34.044402  33.934540  33.827920  33.737501  33.685009   \n",
       "0.03    33.977148  33.854255  33.727681  33.605426  33.502683  33.444655   \n",
       "0.04    33.888657  33.752103  33.611780  33.476709  33.364081  33.302101   \n",
       "0.05    33.852600  33.704008  33.551483  33.405176  33.283955  33.218940   \n",
       "0.06    33.853173  33.693515  33.529828  33.373262  33.244325  33.176769   \n",
       "0.07    33.881475  33.711393  33.537232  33.371018  33.234902  33.165127   \n",
       "0.08    33.931894  33.751813  33.567662  33.392340  33.249406  33.177647   \n",
       "0.09    34.000672  33.810987  33.617190  33.432999  33.283527  33.209952   \n",
       "0.10    34.085238  33.886144  33.682921  33.490153  33.334312  33.258991   \n",
       "\n",
       "theta       0.004      0.003      0.002      0.001  \n",
       "lambda                                              \n",
       "0.01    34.144239  34.240140  34.451669  34.800362  \n",
       "0.02    33.701814  33.825081  34.092390  34.527584  \n",
       "0.03    33.467668  33.614601  33.927381  34.429655  \n",
       "0.04    33.331586  33.500407  33.854101  34.415145  \n",
       "0.05    33.254964  33.444520  33.836551  34.451916  \n",
       "0.06    33.219264  33.428903  33.857629  34.524513  \n",
       "0.07    33.214140  33.443331  33.907641  34.624281  \n",
       "0.08    33.233112  33.481530  33.980615  34.745901  \n",
       "0.09    33.271903  33.539295  34.072709  34.885835  \n",
       "0.10    33.327454  33.613671  34.181079  35.041601  "
      ]
     },
     "execution_count": 6,
     "metadata": {},
     "output_type": "execute_result"
    }
   ],
   "source": [
    "df = pd.DataFrame([[perplexity[theta, lam] for theta in thetas] for lam in lambdas], index=lambdas, columns=thetas)\n",
    "df.index.name = 'lambda'\n",
    "df.columns.name = 'theta'\n",
    "df"
   ]
  },
  {
   "cell_type": "code",
   "execution_count": 5,
   "metadata": {
    "ExecuteTime": {
     "end_time": "2019-09-28T14:43:45.907016Z",
     "start_time": "2019-09-28T14:43:43.565061Z"
    }
   },
   "outputs": [
    {
     "data": {
      "text/plain": [
       "{'loss': 3.522698402404785, 'perplexity': 33.87571555612406, 'time': 2.0}"
      ]
     },
     "execution_count": 5,
     "metadata": {},
     "output_type": "execute_result"
    }
   ],
   "source": [
    "data_test = SequentialIterator(c, c.eval_batch, split='test')\n",
    "evaluate(c.var(use_cache=True, n_cache=500, cache_theta=0.005, cache_lambda=0.07), data_test, net)"
   ]
  }
 ],
 "metadata": {
  "kernelspec": {
   "display_name": "Python 3",
   "language": "python",
   "name": "python3"
  },
  "language_info": {
   "codemirror_mode": {
    "name": "ipython",
    "version": 3
   },
   "file_extension": ".py",
   "mimetype": "text/x-python",
   "name": "python",
   "nbconvert_exporter": "python",
   "pygments_lexer": "ipython3",
   "version": "3.6.8"
  },
  "toc": {
   "base_numbering": 1,
   "nav_menu": {},
   "number_sections": true,
   "sideBar": true,
   "skip_h1_title": false,
   "title_cell": "Table of Contents",
   "title_sidebar": "Contents",
   "toc_cell": false,
   "toc_position": {},
   "toc_section_display": true,
   "toc_window_display": false
  }
 },
 "nbformat": 4,
 "nbformat_minor": 2
}
