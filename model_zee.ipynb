{
 "cells": [
  {
   "cell_type": "code",
   "execution_count": 14,
   "metadata": {
    "ExecuteTime": {
     "end_time": "2019-09-24T13:28:06.586522Z",
     "start_time": "2019-09-24T13:28:06.194210Z"
    }
   },
   "outputs": [
    {
     "name": "stdout",
     "output_type": "stream",
     "text": [
      "The autoreload extension is already loaded. To reload it, use:\n",
      "  %reload_ext autoreload\n"
     ]
    }
   ],
   "source": [
    "from u import *\n",
    "from ut import *\n",
    "from model import *\n",
    "from data import *\n",
    "\n",
    "%load_ext autoreload\n",
    "%autoreload 2\n",
    "\n",
    "decoder = (Cache / 'vocab.npy').load()\n",
    "encoder = get_encoder(decoder)\n",
    "n_vocab = len(decoder)"
   ]
  },
  {
   "cell_type": "markdown",
   "metadata": {},
   "source": [
    "# Model Configurations\n",
    "\n",
    "Also prints out the command to run training"
   ]
  },
  {
   "cell_type": "code",
   "execution_count": 15,
   "metadata": {
    "ExecuteTime": {
     "end_time": "2019-09-24T13:28:07.190579Z",
     "start_time": "2019-09-24T13:28:07.158831Z"
    },
    "code_folding": []
   },
   "outputs": [],
   "source": [
    "# base hyperparameters for transformer\n",
    "transformer = dict(\n",
    "    model=Proj / 'model.py', model_class='Transformer', n_vocab=n_vocab, step_save=5000,\n",
    "    train_batch=17, train_chunk=1088,\n",
    "    step_eval=500, eval_batch=1, eval_chunk=4096,\n",
    "    cutoffs=[5000, 25000, 50000], adaptive_ratio=4, pos_emb='trained',\n",
    "    n_seq=64, n_layers=16, n_embed=256, n_head=8, n_k=32, n_v=32, n_inner=1024, dropout=0.1,\n",
    "    lr=0.0005, step_warmup=100, scheduler='cosine'\n",
    ")"
   ]
  },
  {
   "cell_type": "code",
   "execution_count": 14,
   "metadata": {
    "ExecuteTime": {
     "end_time": "2019-09-22T19:25:51.494342Z",
     "start_time": "2019-09-22T19:25:51.413276Z"
    }
   },
   "outputs": [
    {
     "name": "stdout",
     "output_type": "stream",
     "text": [
      "cd /data/scratch/zxyan/micronet/wikitext-103/hebbian,large\n",
      "CUDA_VISIBLE_DEVICES=0,1,2,3 python3 -m torch.distributed.launch --nproc_per_node=4 --use_env ../../model.py . steps=200000 opt_level=O1\n"
     ]
    }
   ],
   "source": [
    "# create config object from dictionary\n",
    "c = Config(Wiki / 'hebbian,large', # first argument to config is the path of the folder to create for the run\n",
    "    transformer,\n",
    "    hebbian=True, hebbian_gamma=0.002, hebbian_T=2500,\n",
    "    train_batch=8, train_chunk=1152,\n",
    "    n_embed=512, n_seq=128, mask_pad=True\n",
    ").save(True) # save to the folder\n",
    "\n",
    "# print out command to run the training\n",
    "print(c.train(env_gpu=lrange(4), steps=200000, opt='O1'))"
   ]
  },
  {
   "cell_type": "code",
   "execution_count": 7,
   "metadata": {
    "ExecuteTime": {
     "end_time": "2019-09-23T05:26:17.936295Z",
     "start_time": "2019-09-23T05:26:17.887118Z"
    }
   },
   "outputs": [
    {
     "name": "stdout",
     "output_type": "stream",
     "text": [
      "cd /data/scratch/zxyan/micronet/wikitext-103/hebbian,large2\n",
      "CUDA_VISIBLE_DEVICES=0,1,2,3,4,5 python3 -m torch.distributed.launch --nproc_per_node=6 --use_env ../../model.py . steps=200000 opt_level=O1\n"
     ]
    }
   ],
   "source": [
    "c = Config(Wiki / 'hebbian,large2', transformer,\n",
    "    hebbian=True, hebbian_gamma=0.002, hebbian_T=2500,\n",
    "    train_batch=7, train_chunk=1152,\n",
    "    n_embed=512, n_k=64, n_v=64, n_seq=96, n_inner=1536, mask_pad=True\n",
    ").save(True)\n",
    "print(c.train(env_gpu=lrange(6), steps=200000, opt='O1'))"
   ]
  },
  {
   "cell_type": "code",
   "execution_count": 5,
   "metadata": {
    "ExecuteTime": {
     "end_time": "2019-09-22T01:07:25.579069Z",
     "start_time": "2019-09-22T01:07:25.302710Z"
    }
   },
   "outputs": [
    {
     "name": "stdout",
     "output_type": "stream",
     "text": [
      "cd /data/scratch/zxyan/micronet/wikitext-103/hebbian\n",
      "CUDA_VISIBLE_DEVICES=2 python3 ../../model.py . steps=200000 opt_level=O1\n"
     ]
    }
   ],
   "source": [
    "c = Config(Wiki / 'hebbian', transformer,\n",
    "           hebbian=True, hebbian_gamma=0.01, hebbian_T=500).save(True)\n",
    "print(c.train(env_gpu=2, steps=200000, opt='O1'))"
   ]
  },
  {
   "cell_type": "code",
   "execution_count": 22,
   "metadata": {
    "ExecuteTime": {
     "end_time": "2019-09-24T14:48:39.199584Z",
     "start_time": "2019-09-24T14:48:39.069545Z"
    },
    "scrolled": true
   },
   "outputs": [
    {
     "name": "stdout",
     "output_type": "stream",
     "text": [
      "cd /data/scratch/zxyan/micronet/wikitext-103/transformer,lightconv\n",
      "CUDA_VISIBLE_DEVICES=1 python3 ../../model.py . steps=200000 opt_level=O0\n"
     ]
    }
   ],
   "source": [
    "layers = []\n",
    "for i in range(transformer['n_layers']):\n",
    "    if i < 5:\n",
    "        layers.append(dict(lc_kernel_size=3))\n",
    "    elif i < 10:\n",
    "        layers.append(dict(lc_kernel_size=7))\n",
    "    else:\n",
    "        layers.append(dict(lc_kernel_size=15))\n",
    "c = Config(Wiki / 'transformer,lightconv', transformer, train_batch=10,\n",
    "           light_conv=True, layers=layers,\n",
    "           hebbian=True, hebbian_gamma=0.01, hebbian_T=500).save(True)\n",
    "print(c.train(env_gpu=1, steps=200000, opt='O0'))"
   ]
  },
  {
   "cell_type": "code",
   "execution_count": 23,
   "metadata": {
    "ExecuteTime": {
     "end_time": "2019-09-24T14:50:36.955604Z",
     "start_time": "2019-09-24T14:50:36.863121Z"
    }
   },
   "outputs": [
    {
     "name": "stdout",
     "output_type": "stream",
     "text": [
      "cd /data/scratch/zxyan/micronet/wikitext-103/gru\n",
      "CUDA_VISIBLE_DEVICES=1 python3 ../../model.py . steps=200000 opt_level=O0\n"
     ]
    }
   ],
   "source": [
    "c = Config(Wiki / 'gru',\n",
    "    model=Proj / 'model.py', model_class='RNN', net='GRU', n_vocab=n_vocab, step_save=5000,\n",
    "    train_batch=11, n_seq=2048, step_eval=1000, eval_batch=1, eval_chunk=8192,\n",
    "    cutoffs=[5000, 25000, 50000], adaptive_ratio=4,\n",
    "    lr=0.01, step_warmup=100, scheduler='rsqrt',\n",
    "    num_layers=1, n_embed=512, n_hidden=2048, dropout=0.1,\n",
    "    hebbian=True, hebbian_gamma=0.01, hebbian_T=500\n",
    ").save(True)\n",
    "print(c.train(env_gpu=1, steps=200000))"
   ]
  },
  {
   "cell_type": "code",
   "execution_count": 24,
   "metadata": {
    "ExecuteTime": {
     "end_time": "2019-09-24T21:16:19.493760Z",
     "start_time": "2019-09-24T21:16:19.375087Z"
    },
    "code_folding": []
   },
   "outputs": [
    {
     "name": "stdout",
     "output_type": "stream",
     "text": [
      "cd /data/scratch/zxyan/micronet/wikitext-103/sorted,hebbian\n",
      "CUDA_VISIBLE_DEVICES=2 python3 ../../model.py . steps=200000 opt_level=O1\n"
     ]
    }
   ],
   "source": [
    "sorted_hebbian = transformer.copy()\n",
    "sorted_hebbian.update(dict(\n",
    "    hebbian=True, hebbian_gamma=0.01, hebbian_T=500,\n",
    "    vocab_sorted=True, cutoffs=[3500, 25000], n_embeds=[256, 64, 4]\n",
    "))\n",
    "c = Config(Wiki / 'sorted,hebbian', sorted_hebbian).save(True)\n",
    "print(c.train(env_gpu=2, steps=200000, opt='O1'))"
   ]
  },
  {
   "cell_type": "code",
   "execution_count": 31,
   "metadata": {
    "ExecuteTime": {
     "end_time": "2019-09-25T14:31:38.717291Z",
     "start_time": "2019-09-25T14:31:38.625696Z"
    }
   },
   "outputs": [
    {
     "name": "stdout",
     "output_type": "stream",
     "text": [
      "cd /data/scratch/zxyan/micronet/wikitext-103/sorted,hebbian,compound\n",
      "CUDA_VISIBLE_DEVICES=0 python3 ../../model.py . steps=200000 opt_level=O1\n"
     ]
    }
   ],
   "source": [
    "sorted_hebbian_layer2 = sorted_hebbian.copy()\n",
    "layers = []\n",
    "for i in range(sorted_hebbian_layer2['n_layers']):\n",
    "    # more heads when shallow, less heads when deep\n",
    "    # smaller inner when shallow\n",
    "    if i < 4:\n",
    "        layer = dict(n_inner=64, n_head=8, n_k=16, n_v=16)\n",
    "    elif i < 8:\n",
    "        layer = dict(n_inner=256, n_head=4, n_k=32, n_v=32)\n",
    "    elif i < 10:\n",
    "        layer = dict(n_inner=1024, n_head=4, n_k=64, n_v=64)\n",
    "    elif i < 12:\n",
    "        layer = dict(n_inner=1024, n_head=4, n_k=64, n_v=64)\n",
    "    elif i < 16:\n",
    "        layer = dict(n_inner=1536, n_head=2, n_k=128, n_v=128)\n",
    "    layers.append(layer)\n",
    "\n",
    "c = Config(Wiki / 'sorted,hebbian,compound', sorted_hebbian_layer2, layers=layers, train_batch=18).save(True)\n",
    "print(c.train(env_gpu=0, steps=200000, opt='O1'))"
   ]
  },
  {
   "cell_type": "code",
   "execution_count": 33,
   "metadata": {
    "ExecuteTime": {
     "end_time": "2019-09-25T14:34:29.241936Z",
     "start_time": "2019-09-25T14:34:29.137579Z"
    }
   },
   "outputs": [
    {
     "name": "stdout",
     "output_type": "stream",
     "text": [
      "cd /data/scratch/zxyan/micronet/wikitext-103/sorted,hebbian,layer12\n",
      "CUDA_VISIBLE_DEVICES=2 python3 ../../model.py . steps=200000 opt_level=O1\n"
     ]
    }
   ],
   "source": [
    "sorted_hebbian_layer12 = sorted_hebbian.copy()\n",
    "sorted_hebbian_layer12.update(dict(n_layers=12, train_batch=18))\n",
    "c = Config(Wiki / 'sorted,hebbian,layer12', sorted_hebbian_layer12).save(True)\n",
    "print(c.train(env_gpu=2, steps=200000, opt='O1'))"
   ]
  },
  {
   "cell_type": "markdown",
   "metadata": {},
   "source": [
    "# Cache Parameter Search"
   ]
  },
  {
   "cell_type": "code",
   "execution_count": 8,
   "metadata": {
    "ExecuteTime": {
     "end_time": "2019-09-23T05:26:29.558819Z",
     "start_time": "2019-09-23T05:26:23.037848Z"
    },
    "scrolled": false
   },
   "outputs": [
    {
     "name": "stdout",
     "output_type": "stream",
     "text": [
      "Model at step 200000\n"
     ]
    }
   ],
   "source": [
    "# loads the model (net and step) for evaluation\n",
    "c = Config(Wiki / 'hebbian,large2').load()\n",
    "net, step = c.var(device='cuda:0').load_model('max')\n",
    "from model import evaluate\n",
    "data_val = SequentialIterator(c, c.eval_batch, split='valid')\n",
    "perplexity = {}\n",
    "print('Model at step', step)"
   ]
  },
  {
   "cell_type": "code",
   "execution_count": 11,
   "metadata": {
    "ExecuteTime": {
     "end_time": "2019-09-23T06:54:01.405366Z",
     "start_time": "2019-09-23T06:51:36.087028Z"
    },
    "code_folding": []
   },
   "outputs": [],
   "source": [
    "thetas = [1e-2, 1e-3, 1e-4]\n",
    "thetas = [1e-1, 5e-2, 2e-2, 1e-2]\n",
    "thetas = [1e-2, 5e-3, 2e-3, 1e-3]\n",
    "thetas = [1e-2, 9e-3, 8e-3, 7e-3, 6e-3, 5e-3, 4e-3, 3e-3, 2e-3, 1e-3]\n",
    "# thetas = [6e-3, 5.5e-3, 5e-3, 4.5e-3, 4e-3]\n",
    "thetas = np.arange(1e-3, 0, -1e-4)\n",
    "\n",
    "lambdas = [0.05, 0.1, 0.2, 0.3, 0.4]\n",
    "lambdas = [0.01, 0.02, 0.03, 0.04, 0.05, 0.06, 0.07, 0.08, 0.09, 0.1]\n",
    "# lambdas = [0.05, 0.055, 0.06, 0.065, 0.07]\n",
    "lambdas = np.arange(0.03, 0, -0.01)\n",
    "\n",
    "# search over cache parameters\n",
    "for theta in thetas:\n",
    "    for lam in lambdas:\n",
    "        if (theta, lam) in perplexity:\n",
    "            continue\n",
    "        net.loss.cache_keys = net.loss.cache_values = None\n",
    "        perplexity[theta, lam] = evaluate(c.var(use_cache=True, n_cache=500, cache_theta=theta, cache_lambda=lam), data_val, net)['perplexity']"
   ]
  },
  {
   "cell_type": "code",
   "execution_count": 12,
   "metadata": {
    "ExecuteTime": {
     "end_time": "2019-09-23T06:54:01.510238Z",
     "start_time": "2019-09-23T06:54:01.409941Z"
    }
   },
   "outputs": [
    {
     "data": {
      "text/html": [
       "<div>\n",
       "<style scoped>\n",
       "    .dataframe tbody tr th:only-of-type {\n",
       "        vertical-align: middle;\n",
       "    }\n",
       "\n",
       "    .dataframe tbody tr th {\n",
       "        vertical-align: top;\n",
       "    }\n",
       "\n",
       "    .dataframe thead th {\n",
       "        text-align: right;\n",
       "    }\n",
       "</style>\n",
       "<table border=\"1\" class=\"dataframe\">\n",
       "  <thead>\n",
       "    <tr style=\"text-align: right;\">\n",
       "      <th>theta</th>\n",
       "      <th>0.001</th>\n",
       "      <th>0.0009</th>\n",
       "      <th>0.0007999999999999999</th>\n",
       "      <th>0.0006999999999999999</th>\n",
       "      <th>0.0005999999999999998</th>\n",
       "      <th>0.0004999999999999998</th>\n",
       "      <th>0.00039999999999999975</th>\n",
       "      <th>0.0002999999999999997</th>\n",
       "      <th>0.00019999999999999966</th>\n",
       "      <th>9.999999999999961e-05</th>\n",
       "    </tr>\n",
       "    <tr>\n",
       "      <th>lambda</th>\n",
       "      <th></th>\n",
       "      <th></th>\n",
       "      <th></th>\n",
       "      <th></th>\n",
       "      <th></th>\n",
       "      <th></th>\n",
       "      <th></th>\n",
       "      <th></th>\n",
       "      <th></th>\n",
       "      <th></th>\n",
       "    </tr>\n",
       "  </thead>\n",
       "  <tbody>\n",
       "    <tr>\n",
       "      <th>0.03</th>\n",
       "      <td>25.787173</td>\n",
       "      <td>25.788649</td>\n",
       "      <td>25.792240</td>\n",
       "      <td>25.798046</td>\n",
       "      <td>25.806270</td>\n",
       "      <td>25.817021</td>\n",
       "      <td>25.830690</td>\n",
       "      <td>25.847989</td>\n",
       "      <td>25.869721</td>\n",
       "      <td>25.897238</td>\n",
       "    </tr>\n",
       "    <tr>\n",
       "      <th>0.02</th>\n",
       "      <td>25.750440</td>\n",
       "      <td>25.751717</td>\n",
       "      <td>25.754799</td>\n",
       "      <td>25.759718</td>\n",
       "      <td>25.766647</td>\n",
       "      <td>25.775642</td>\n",
       "      <td>25.786952</td>\n",
       "      <td>25.801232</td>\n",
       "      <td>25.819139</td>\n",
       "      <td>25.841870</td>\n",
       "    </tr>\n",
       "    <tr>\n",
       "      <th>0.01</th>\n",
       "      <td>25.784382</td>\n",
       "      <td>25.785464</td>\n",
       "      <td>25.787948</td>\n",
       "      <td>25.791742</td>\n",
       "      <td>25.796988</td>\n",
       "      <td>25.803736</td>\n",
       "      <td>25.812116</td>\n",
       "      <td>25.822630</td>\n",
       "      <td>25.835765</td>\n",
       "      <td>25.852599</td>\n",
       "    </tr>\n",
       "  </tbody>\n",
       "</table>\n",
       "</div>"
      ],
      "text/plain": [
       "theta      0.0010     0.0009     0.0008     0.0007     0.0006     0.0005  \\\n",
       "lambda                                                                     \n",
       "0.03    25.787173  25.788649  25.792240  25.798046  25.806270  25.817021   \n",
       "0.02    25.750440  25.751717  25.754799  25.759718  25.766647  25.775642   \n",
       "0.01    25.784382  25.785464  25.787948  25.791742  25.796988  25.803736   \n",
       "\n",
       "theta      0.0004     0.0003     0.0002     0.0001  \n",
       "lambda                                              \n",
       "0.03    25.830690  25.847989  25.869721  25.897238  \n",
       "0.02    25.786952  25.801232  25.819139  25.841870  \n",
       "0.01    25.812116  25.822630  25.835765  25.852599  "
      ]
     },
     "execution_count": 12,
     "metadata": {},
     "output_type": "execute_result"
    }
   ],
   "source": [
    "df = pd.DataFrame([[perplexity[theta, lam] for theta in thetas] for lam in lambdas], index=lambdas, columns=thetas)\n",
    "df.index.name = 'lambda'\n",
    "df.columns.name = 'theta'\n",
    "df"
   ]
  },
  {
   "cell_type": "code",
   "execution_count": 13,
   "metadata": {
    "ExecuteTime": {
     "end_time": "2019-09-23T06:58:49.180734Z",
     "start_time": "2019-09-23T06:58:43.553369Z"
    }
   },
   "outputs": [
    {
     "data": {
      "text/plain": [
       "{'loss': 3.2895140647888184, 'perplexity': 26.829822932009282, 'time': 5.0}"
      ]
     },
     "execution_count": 13,
     "metadata": {},
     "output_type": "execute_result"
    }
   ],
   "source": [
    "data_test = SequentialIterator(c, c.eval_batch, split='test')\n",
    "evaluate(c.var(use_cache=True, n_cache=500, cache_theta=0.001, cache_lambda=0.02), data_test, net)"
   ]
  }
 ],
 "metadata": {
  "kernelspec": {
   "display_name": "Python 3",
   "language": "python",
   "name": "python3"
  },
  "language_info": {
   "codemirror_mode": {
    "name": "ipython",
    "version": 3
   },
   "file_extension": ".py",
   "mimetype": "text/x-python",
   "name": "python",
   "nbconvert_exporter": "python",
   "pygments_lexer": "ipython3",
   "version": "3.5.2"
  },
  "toc": {
   "base_numbering": 1,
   "nav_menu": {},
   "number_sections": true,
   "sideBar": true,
   "skip_h1_title": false,
   "title_cell": "Table of Contents",
   "title_sidebar": "Contents",
   "toc_cell": false,
   "toc_position": {},
   "toc_section_display": true,
   "toc_window_display": false
  }
 },
 "nbformat": 4,
 "nbformat_minor": 2
}
